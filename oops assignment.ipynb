{
 "cells": [
  {
   "cell_type": "markdown",
   "id": "4d3dd2d2-6d81-4d21-b4e6-fabc11221c8e",
   "metadata": {},
   "source": [
    "# PYTHON OOPS QUESTIONS"
   ]
  },
  {
   "cell_type": "markdown",
   "id": "8a9a8491-7345-40ac-986a-ae9f80a5c9e5",
   "metadata": {},
   "source": [
    "\n",
    "---\n",
    "\n",
    "### Q1:What is object oriented programming(OOP)?\n"
   ]
  },
  {
   "cell_type": "markdown",
   "id": "b35ecc4d-9fd5-479f-b95d-175372b926b6",
   "metadata": {},
   "source": [
    "### Ans:\"OOP in a python is a method of programming that uses classes and objects to model real worlds things and behaviour,making code more organised ,reusable and easier to maintain\"."
   ]
  },
  {
   "cell_type": "markdown",
   "id": "91282677-51f2-4755-b2a1-d7b0cd8dbc87",
   "metadata": {},
   "source": [
    "\n",
    "---\n",
    "\n",
    "### Q2:What is a class in OOP?\n"
   ]
  },
  {
   "cell_type": "markdown",
   "id": "f06d65fa-19de-4c3a-b777-fbe9b2f60c20",
   "metadata": {},
   "source": [
    "### Ans:a class is a user defined data structure in OOP that acts as a blueprint for creating objects with specific properties and behaviors.it defines the attribute (data) and methods (functions) that the object created from the class will have."
   ]
  },
  {
   "cell_type": "markdown",
   "id": "82f40f58-b20c-495e-b83c-c51009ff24d4",
   "metadata": {},
   "source": [
    "\n",
    "---\n",
    "\n",
    "### Q3:What is an object in OOP?"
   ]
  },
  {
   "cell_type": "markdown",
   "id": "73bb50d8-486c-482c-b06a-5b1bbf2dc72a",
   "metadata": {},
   "source": [
    "### Ans:an object is a specific instance of a class that holds actual values and can perform actions defined by the class methods.an object in an OOP is an instance of a class.it is a real world entity that contains data(attributes)and behavior(methods)defined by its class.\n",
    "\n",
    "---\n"
   ]
  },
  {
   "cell_type": "markdown",
   "id": "3bb77fc2-10dd-4e4a-87dd-de2d53bbd940",
   "metadata": {},
   "source": [
    "\n",
    "### Q4:What is the difference between abstraction and encapsulation?"
   ]
  },
  {
   "cell_type": "markdown",
   "id": "220d1732-1b0d-415e-b368-c55063d19593",
   "metadata": {},
   "source": [
    "\n",
    "### Ans: ABSTRACTION:\n",
    " * its main goal is to simplify interface for the user.\n",
    " * it hides complex implementation details.\n",
    " * it focuses on what an object,and not on how it does.\n",
    " * it is achieved using abstract classes or interfaces.\n",
    " * it helps in reducing complexity by showing only the necessary features.\n",
    "\n",
    "\n",
    "### ENCAPSULATION:\n",
    " * its main goal is to secure the data.\n",
    " * Binds data and methods into a single unit(class)\n",
    " * Hides internal data using private variables.\n",
    " * focuses on data protection and control.\n",
    " * it provides access via **getters and setters**.\n",
    "\n",
    "---\n"
   ]
  },
  {
   "cell_type": "markdown",
   "id": "17a87dc4-1b4a-4a9b-a9c3-988339c3cf12",
   "metadata": {},
   "source": [
    "\n",
    "### Q5:What are dunder methods in python?\n",
    "\n",
    "### Ans:**DUNDER METHODS** are special predefined methods in python that starts and ends with double underscores.e.g.,_init_,_add_,etc.they are used to define or customize the behaviors of the objects for built-in-operations such as object creation,string conversion,operator overloading and more.\n",
    "\n",
    "---\n",
    "\n"
   ]
  },
  {
   "cell_type": "markdown",
   "id": "b9413771-d59c-439d-90f5-d0eaff8b6cc9",
   "metadata": {},
   "source": [
    "\n",
    "### Q6:Explain the concept of inheritance in OOP.\n",
    "\n",
    "### Ans:**Inheritance** is the mechanism in OOP where a new class(child or subclass) derives the attributes and methods of an existing class(parent or superclass).it helps promote *code reuse* and models *real world relationship* like \"is-a\".\n",
    "\n",
    "---\n"
   ]
  },
  {
   "cell_type": "markdown",
   "id": "5572738c-417b-4164-8aed-01c76a80b4e8",
   "metadata": {},
   "source": [
    "\n",
    "### Q7:What is polymorphism in OOP?\n",
    "\n",
    "### Ans: polymorphism is a key concept in OOP that means \"many forms\".it allows one interface to be used for **different data types or classes**,enabling **different objects** to respond differently to the same method call.\n",
    "\n",
    "---\n"
   ]
  },
  {
   "cell_type": "markdown",
   "id": "7d29c510-6995-482a-97bb-0208438d454e",
   "metadata": {},
   "source": [
    "\n",
    "### Q8:How is encapsulation achieved in python?\n",
    "\n",
    "### Ans: **Encapsulation** in python is achieved by restricting access to class attributes and methods using access specifiers:\n",
    "* public(name):accessible from anywhere.\n",
    "* Protected (_name): Intended for internal use; accessible but discouraged from outside.\n",
    "* Private (__name): Name mangled to prevent direct access from outside.\n",
    "\n",
    "#### \"it also uses **getter and setter method** to control access and do further modifications.\n",
    "\n",
    "---\n",
    "\n"
   ]
  },
  {
   "cell_type": "markdown",
   "id": "a8659ebc-98b6-4c16-bb4c-fa8b17c39bb9",
   "metadata": {},
   "source": [
    "#### Q9:What is a constructor in python?\n",
    "\n",
    "#### Ans:it is a special method called _init_() that automatically runs when a new object of a class is created. it initializes the object's attributes.its main purpose is to set up(initialize)the object's state when it's created.\n",
    "\n",
    "---\n"
   ]
  },
  {
   "cell_type": "markdown",
   "id": "f37581e1-f9e4-4aae-837a-ef7293bb5094",
   "metadata": {},
   "source": [
    "\n",
    "### Q10:What are the class and static methods in python?\n",
    "\n",
    "### Ans: **CLASS METHOD**\n",
    "* Defined with @classmethod\n",
    "* First argument is cls (the class)\n",
    "* Can access/modify class-level data.\n",
    "\n",
    "### **STATIC METHOD**\n",
    "* Defined with @staticmethod.\n",
    "* No self or cls argument\n",
    "* Can't access class or instance data and used for utility functions.\n",
    "\n",
    "---\n"
   ]
  },
  {
   "cell_type": "markdown",
   "id": "8fe7afe6-13f6-4ac4-89cf-06674a969ba9",
   "metadata": {},
   "source": [
    "\n",
    "### Q11:What is method overloading in python?\n",
    "\n",
    "### Ans:it means same method name with different parameters.python doesn't support it directly but we can simulate it using **default arguments** or *args*.\n",
    "\n",
    "---\n"
   ]
  },
  {
   "cell_type": "markdown",
   "id": "43d2c02a-d96b-4541-8904-fe99c0dab182",
   "metadata": {},
   "source": [
    "\n",
    "### Q12:What is method overriding in OOP?\n",
    "\n",
    "### Ans:it means defining a method in the child class with the same name in the parent class.**child clas method** replaces the **parent class method**.\n",
    "\n",
    "---\n",
    "\n"
   ]
  },
  {
   "cell_type": "markdown",
   "id": "6d92da1d-eeec-4bf4-a958-7dd2446e1b41",
   "metadata": {},
   "source": [
    "\n",
    "### Q13:What is a property decorator in python?\n",
    "\n",
    "### Ans:The `@property` decorator in Python is used to **define a method that can be accessed like an attribute**, allowing you to control access to instance variables (getters and setters) in a clean and Pythonic way.\n",
    "\n",
    "---\n",
    "\n"
   ]
  },
  {
   "cell_type": "markdown",
   "id": "68b6ed53-35fb-482b-9f08-1db20bace78e",
   "metadata": {},
   "source": [
    "\n",
    "### Q14:Why is polymorphism important in OOP?\n",
    "\n",
    "### Ans:**Polymorphism** in OOP lets one interface work with different types of objects. basically, It makes code very **simpler**,with**more flexible**, and **easier to update** by allowing different classes to use the same method in their own way.\n",
    "\n",
    "---\n",
    "\n"
   ]
  },
  {
   "cell_type": "markdown",
   "id": "b7ec5542-3256-4472-8381-bdf33a1da07b",
   "metadata": {},
   "source": [
    "\n",
    "### Q15:What is an abstract class in python?\n",
    "\n",
    "### Ans:An abstract class in Python is a class that cannot be instantiated and is used to define a common interface for its subclasses. It can have abstract methods (methods without a body) that must be implemented by any subclass.\n",
    "\n",
    "---\n"
   ]
  },
  {
   "cell_type": "markdown",
   "id": "cb34f4f0-433b-4ef7-af70-ad083a603706",
   "metadata": {},
   "source": [
    "\n",
    "### Q16:What are the advantages of OOP?\n",
    "\n",
    "### Ans:**Advantages of OOP (Object-Oriented Programming):**\n",
    "\n",
    "* **Reusability** – Code can be reused through inheritance.\n",
    "*  **Modularity** – Code is organized into classes and objects.\n",
    "*  **Encapsulation** – Protects data by hiding internal details.\n",
    "*  **Inheritance** – Promotes code reuse and method overriding.\n",
    "*  **Polymorphism** – Same interface, different implementations.\n",
    "*  **Easy Maintenance** – Code is easier to manage and update.\n",
    "*  **Scalability** – Easier to scale large and complex systems.\n",
    "\n",
    "---\n",
    "\n"
   ]
  },
  {
   "cell_type": "markdown",
   "id": "3bed9291-5b96-49c1-a034-db07b05466e7",
   "metadata": {},
   "source": [
    "\n",
    "### Q17:What is the difference between a class variable and an instance variable?\n",
    "\n",
    "### Ans:**CLASS VARIABLE**-\n",
    "* Shared by all instances of the class.\n",
    "* Defined inside the class, but outside any method.\n",
    "* Used to store data that should be common for all objects.\n",
    "* Can be accessed using class name or object name, but best with class name.\n",
    "* It keeps Changing the class variable affects all instances.\n",
    "\n",
    "\n",
    "### **INSTANCE VARIABLE**\n",
    "*  It Belongs to a specific object.\n",
    "*  Defined inside a method, usually __init__, using self.\n",
    "*  Used to store data that is unique for each object.\n",
    "*  Accessed using self.variable_name.\n",
    "*  it keeps Changing one object's instance variable does not affect others.\n",
    "\n",
    "---\n",
    "\n"
   ]
  },
  {
   "cell_type": "markdown",
   "id": "a141f030-28d6-4fa1-aed7-d7677051971b",
   "metadata": {},
   "source": [
    "\n",
    "### Q18:What is multiple inheritance in python?\n",
    "\n",
    "### Ans:Multiple inheritance in Python allows a class to inherit from more than one parent class. This means a child class can use methods and attributes from all its parents. It helps combine different functionalities into one class. If parent classes have methods with the same name, Python uses Method Resolution Order (MRO) to decide which one to call. This feature makes code more reusable but should be used carefully to avoid confusion.\n",
    "\n",
    "---\n",
    "\n"
   ]
  },
  {
   "cell_type": "markdown",
   "id": "c30a6487-3c97-4b97-a481-37fac62f0b87",
   "metadata": {},
   "source": [
    "\n",
    "### Q19:Explain the purpose of ``_ _str_ _'and'_ _ repr_ _``methods in python.\n",
    "\n",
    "### Ans:In Python, `__str__()` and `__repr__()` are special methods used to define how an object is represented as a string.\n",
    "\n",
    "* `__str__()` returns a **user-friendly** string, mainly for display (e.g., when using `print()`).\n",
    "* `__repr__()` returns a **developer-friendly** string, mainly for debugging and should ideally show how to recreate the object.\n",
    "  If both are defined, `print()` uses `__str__()`; otherwise, it falls back to `__repr__()`.\n",
    "\n",
    "---\n"
   ]
  },
  {
   "cell_type": "markdown",
   "id": "fc0dc099-307c-47a4-b478-9908f12296d0",
   "metadata": {},
   "source": [
    "\n",
    "### Q20:What is the significance of the 'super()'function in python?\n",
    "\n",
    "### ANS:The `super()` function in Python is used to call methods from a **parent (or superclass)** in a child class.\n",
    "\n",
    "It allows us to access the **inherited methods** without directly naming the parent class. This is especially useful in **multiple inheritance** and when using **`__init__()`** to initialize parent class properties.\n",
    "\n",
    "----\n"
   ]
  },
  {
   "cell_type": "markdown",
   "id": "a0e18e79-dbc8-47d4-a1bc-12c42222f4e5",
   "metadata": {},
   "source": [
    "\n",
    "### Q21:What is the significance of _ _del_ _ method in python?\n",
    "\n",
    "### Ans:The _ _del_ _ method in Python is a destructor that is called when an object is about to be destroyed (garbage collected). It is used to perform cleanup actions, like closing files or releasing resources, before the object is removed from memory.\n"
   ]
  },
  {
   "cell_type": "markdown",
   "id": "59908265-5af8-4a19-8788-015de99f5414",
   "metadata": {},
   "source": [
    "\n",
    "---\n",
    "\n",
    "### Q22:What is the diference between @staticmethod and @classmethod in python?\n",
    "\n",
    "### Ans: **`@staticmethod` vs `@classmethod` in Python**  \n",
    "\n",
    "#### **Key Differences**  \n",
    "\n",
    "1. **Parameter Passing**  \n",
    "   * `@classmethod`: Takes **`cls`** (class reference) as the first argument  \n",
    "   * `@staticmethod`: Takes **no special first argument**  \n",
    "\n",
    "2. **Access to Class/Instance**  \n",
    "   * `@classmethod`:  \n",
    "     * Can access and modify **class state**  \n",
    "     * Cannot directly access instance attributes (unless instantiated)  \n",
    "   * `@staticmethod`:  \n",
    "     * **Cannot access** class or instance state  \n",
    "     * Works like a regular function  \n",
    "\n",
    "3. **Primary Use Cases**  \n",
    "   * `@classmethod`:  \n",
    "     * Factory methods (alternative constructors)  \n",
    "     * Class-level operations  \n",
    "     * Example: `Employee.from_csv()`  \n",
    "   * `@staticmethod`:  \n",
    "     * Utility/helper functions  \n",
    "     * Operations that don't need class context  \n",
    "     * Example: `MathUtils.add(x, y)`  \n",
    "\n",
    "4. **Inheritance Behavior**  \n",
    "   * Both respect inheritance  \n",
    "   * `@classmethod` will receive **subclass** when called from derived class  \n",
    "\n",
    "5. **When to Use Which**  \n",
    "   * Use `@classmethod` when you need:  \n",
    "     * Class reference (`cls`)  \n",
    "     * To modify class variables  \n",
    "     * Alternative object creation  \n",
    "   * Use `@staticmethod` when you need:  \n",
    "     * A function that belongs to class namespace  \n",
    "     * No access to class/instance required\n",
    "\n",
    "---\n",
    "\n"
   ]
  },
  {
   "cell_type": "markdown",
   "id": "4aa0f89e-7548-429a-8366-222a005f5575",
   "metadata": {},
   "source": [
    "\n",
    "### Q23:How does polymorphism works in python with inheritance?\n",
    "\n",
    "### Ans:In Python, polymorphism allows objects of different classes to be treated as objects of a common superclass. It works with inheritance through method overriding—where a subclass provides its own implementation of a method defined in the parent class.\n",
    "\n",
    "### Key Points:\n",
    "1. **Method Overriding**: A subclass redefines a method from its superclass.  \n",
    "\n",
    "2. **Dynamic Dispatch**: Python calls the appropriate method based on the object's type at runtime.  \n",
    "\n",
    "\n",
    "3. **Duck Typing**: Polymorphism also works via shared method names (even without inheritance).  \n",
    "\n",
    "\n",
    "  * Polymorphism in Python leverages inheritance by allowing subclasses to override superclass methods.  \n",
    "  * The correct method is resolved at runtime based on the object's type.  \n",
    "  * Duck typing extends polymorphism to unrelated classes with compatible methods.  \n",
    "\n",
    "This enables flexible and reusable code.\n",
    "\n",
    "---\n"
   ]
  },
  {
   "cell_type": "markdown",
   "id": "33bfc266-007e-41e1-a768-b07682124a22",
   "metadata": {},
   "source": [
    "\n",
    "### Q24:What is method chaining in python OOP?\n",
    "\n",
    "### Ans:Method chaining is a programming technique where multiple methods are called on the same object in a single statement, with each method returning the object itself (or another relevant object) to allow the calls to be chained together.\n",
    "### In Python, method chaining is achieved by having each method return self (or another object that has the next method you want to call). This allows you to call multiple methods in sequence without having to write separate statements for each method call.\n",
    "\n",
    "### Benefits of Method Chaining:-\n",
    " *  Readability: Creates more fluent and readable code.\n",
    "\n",
    " *  Conciseness: Reduces temporary variables.\n",
    "\n",
    " *  Expressiveness: Makes the sequence of operations clear.\n",
    "\n",
    "---\n",
    "\n"
   ]
  },
  {
   "cell_type": "markdown",
   "id": "aca386d1-83ef-4db0-a0ad-978eba038371",
   "metadata": {},
   "source": [
    "\n",
    "### Q25:What is the purpose of the _ _call_ _ method in python?\n",
    "\n",
    "### Ans: Python `__call__` Method :-\n",
    "\n",
    "In Python, the `__call__` method is a **special method** that allows an object of a class to be **called like a function**.\n",
    "\n",
    "### Purpose of `__call__`:\n",
    "\n",
    "*  Makes objects **callable**, like functions.\n",
    "*  Useful in **function objects (functors)** and **stateful behaviors**.\n",
    "*  Common in **class-based decorators** and **callbacks**.\n",
    "*  Enhances **code readability** and **design flexibility**.\n",
    "\n",
    "### Concept:\n",
    "\n",
    "In Python, **functions are objects**, and objects can act like functions if they implement `__call__`. This method bridges the gap between object-oriented and functional programming styles.\n",
    "\n",
    "\n",
    "### Summary:\n",
    "\n",
    " The `__call__` method in Python lets objects behave like functions by defining what should happen when the object is called using `()`. It is powerful for creating flexible, reusable, and elegant code structures.\n",
    "\n",
    "---\n",
    "\n",
    "\n"
   ]
  },
  {
   "cell_type": "markdown",
   "id": "bb370d59-0ee0-43e2-bc86-6da0dbf31d0a",
   "metadata": {},
   "source": [
    "\n",
    "# PRACTICAL ASSIGNMENT QUESTIONS\n",
    "\n",
    "---\n",
    "\n"
   ]
  },
  {
   "cell_type": "markdown",
   "id": "24e99bab-bf39-449f-927e-c32087ef7ee6",
   "metadata": {},
   "source": [
    "\n",
    "### Q1:Create a parent class animal with a method speak()that prints a generic message.create a child class dog that overrides the speak()method to print \"Bark!\"."
   ]
  },
  {
   "cell_type": "code",
   "execution_count": 2,
   "id": "9074e44d-7c7c-4358-88c8-47cd22a5a916",
   "metadata": {},
   "outputs": [
    {
     "name": "stdout",
     "output_type": "stream",
     "text": [
      "The animal makes a different sound.\n",
      "Bark!\n"
     ]
    }
   ],
   "source": [
    "class Animal:\n",
    "    def speak(self):\n",
    "        print(\"The animal makes a different sound.\")\n",
    "\n",
    "class Dog(Animal):\n",
    "    def speak(self):\n",
    "        print(\"Bark!\")\n",
    "\n",
    "\n",
    "a = Animal()\n",
    "a.speak()\n",
    "\n",
    "d = Dog()\n",
    "d.speak()  \n"
   ]
  },
  {
   "cell_type": "markdown",
   "id": "db169e0a-6e6a-4ae2-8978-d9e2f1614b8f",
   "metadata": {},
   "source": [
    "\n",
    "---\n",
    "\n",
    "### Q2:Write a program to create an abstract class shape with a method area().derive classes circle and rectangle from it and implement the area()method in both."
   ]
  },
  {
   "cell_type": "code",
   "execution_count": 6,
   "id": "8ae91c24-b318-4534-ac84-e2a28bfb12ad",
   "metadata": {},
   "outputs": [
    {
     "name": "stdout",
     "output_type": "stream",
     "text": [
      "Area of Circle: 78.5\n",
      "Area of Rectangle: 10\n"
     ]
    }
   ],
   "source": [
    "from abc import ABC, abstractmethod\n",
    "\n",
    "# Abstract class\n",
    "class Shape(ABC):\n",
    "    @abstractmethod\n",
    "    def area(self):\n",
    "        pass\n",
    "\n",
    "# Subclass for Circle\n",
    "class Circle(Shape):\n",
    "    def __init__(self, radius):\n",
    "        self.radius = radius\n",
    "\n",
    "    def area(self):\n",
    "        return 3.14 * self.radius * self.radius\n",
    "\n",
    "# Subclass for Rectangle\n",
    "class Rectangle(Shape):\n",
    "    def __init__(self, length, width):\n",
    "        self.length = length\n",
    "        self.width = width\n",
    "\n",
    "    def area(self):\n",
    "        return self.length * self.width\n",
    "\n",
    "# Create objects and print areas\n",
    "circle = Circle(5)\n",
    "rectangle = Rectangle(2, 5)\n",
    "\n",
    "print(\"Area of Circle:\", circle.area())\n",
    "print(\"Area of Rectangle:\", rectangle.area())\n"
   ]
  },
  {
   "cell_type": "markdown",
   "id": "481e09e2-e80e-40aa-a70d-6584ca9d7d71",
   "metadata": {},
   "source": [
    "\n",
    "---\n",
    "\n",
    "### Q3: Implement a multi-level inheritance scenario where a class Vehicle has an attribute type. Derive a class Car\n",
    "### and further derive a class ElectricCar that adds a battery attribute.\n"
   ]
  },
  {
   "cell_type": "code",
   "execution_count": 7,
   "id": "1261be44-769e-4c6f-a79a-d2b387aaa094",
   "metadata": {},
   "outputs": [
    {
     "name": "stdout",
     "output_type": "stream",
     "text": [
      "Type: Car\n",
      "Brand: Tesla\n",
      "Battery: 100 kWh\n"
     ]
    }
   ],
   "source": [
    "class Vehicle:\n",
    "    def __init__(self, v_type):\n",
    "        self.type = v_type\n",
    "\n",
    "class Car(Vehicle):\n",
    "    def __init__(self, v_type, brand):\n",
    "        super().__init__(v_type)\n",
    "        self.brand = brand\n",
    "\n",
    "class ElectricCar(Car):\n",
    "    def __init__(self, v_type, brand, battery):\n",
    "        super().__init__(v_type, brand)\n",
    "        self.battery = battery\n",
    "\n",
    "    def display(self):\n",
    "        print(f\"Type: {self.type}\")\n",
    "        print(f\"Brand: {self.brand}\")\n",
    "        print(f\"Battery: {self.battery}\")\n",
    "\n",
    "# Create and display ElectricCar\n",
    "ec = ElectricCar(\"Car\", \"Tesla\", \"100 kWh\")\n",
    "ec.display()\n"
   ]
  },
  {
   "cell_type": "markdown",
   "id": "d2309f4c-340f-4ff0-add2-dd1ee021fd51",
   "metadata": {},
   "source": [
    "\n",
    "---\n",
    "\n",
    "### Q4. Demonstrate polymorphism by creating a base class Bird with a method fly(). Create two derived classes \n",
    "### Sparrow and Penguin that override the fly() method.\n"
   ]
  },
  {
   "cell_type": "code",
   "execution_count": 8,
   "id": "40e02631-5693-409b-9650-47914dab7b23",
   "metadata": {},
   "outputs": [
    {
     "name": "stdout",
     "output_type": "stream",
     "text": [
      "Sparrow flies in the sky\n",
      "Penguins can't fly\n"
     ]
    }
   ],
   "source": [
    "class Bird:\n",
    "    def fly(self):\n",
    "        print(\"Some birds can fly\")\n",
    "\n",
    "class Sparrow(Bird):\n",
    "    def fly(self):\n",
    "        print(\"Sparrow flies in the sky\")\n",
    "\n",
    "class Penguin(Bird):\n",
    "    def fly(self):\n",
    "        print(\"Penguins can't fly\")\n",
    "\n",
    "# Polymorphism in action\n",
    "birds = [Sparrow(), Penguin()]\n",
    "\n",
    "for bird in birds:\n",
    "    bird.fly()\n"
   ]
  },
  {
   "cell_type": "markdown",
   "id": "b5334a76-45e4-43ce-ac06-4dc4e59eb5f0",
   "metadata": {},
   "source": [
    "\n",
    "---\n",
    "### Q5. Write a program to demonstrate encapsulation by creating a class BankAccount with private attributes balance and methods to deposit, withdraw, and check balance."
   ]
  },
  {
   "cell_type": "code",
   "execution_count": 9,
   "id": "0575676a-bf6d-4901-ab29-ebd6fd3d2346",
   "metadata": {},
   "outputs": [
    {
     "name": "stdout",
     "output_type": "stream",
     "text": [
      "Deposited: 8000\n",
      "Withdrew: 900\n",
      "Current Balance: 7100\n"
     ]
    }
   ],
   "source": [
    "class BankAccount:\n",
    "    def __init__(self):\n",
    "        self.__balance = 0  \n",
    "\n",
    "    def deposit(self, amount):\n",
    "        if amount > 0:\n",
    "            self.__balance += amount\n",
    "            print(f\"Deposited: {amount}\")\n",
    "        else:\n",
    "            print(\"Invalid amount\")\n",
    "\n",
    "    def withdraw(self, amount):\n",
    "        if 0 < amount <= self.__balance:\n",
    "            self.__balance -= amount\n",
    "            print(f\"Withdrew: {amount}\")\n",
    "        else:\n",
    "            print(\"Insufficient balance or invalid amount\")\n",
    "\n",
    "    def check_balance(self):\n",
    "        print(f\"Current Balance: {self.__balance}\")\n",
    "\n",
    "# Creating object and testing\n",
    "account = BankAccount()\n",
    "account.deposit(8000)\n",
    "account.withdraw(900)\n",
    "account.check_balance()\n"
   ]
  },
  {
   "cell_type": "markdown",
   "id": "4a32b942-7129-48ef-9107-2c821b7167a6",
   "metadata": {},
   "source": [
    "\n",
    "---\n",
    "\n",
    "### Q6. Demonstrate runtime polymorphism using a method play() in a base class Instrument. Derive classes Guitar and Piano that implement their own version of play()."
   ]
  },
  {
   "cell_type": "code",
   "execution_count": 11,
   "id": "cc88f5e9-4c60-41ba-9b15-7112300ca105",
   "metadata": {},
   "outputs": [
    {
     "name": "stdout",
     "output_type": "stream",
     "text": [
      "Strumming the guitar\n",
      "Playing the piano keys\n"
     ]
    }
   ],
   "source": [
    "class Instrument:\n",
    "    def play(self):\n",
    "        print(\"Playing the instrument\")\n",
    "\n",
    "class Guitar(Instrument):\n",
    "    def play(self):\n",
    "        print(\"Strumming the guitar\")\n",
    "\n",
    "class Piano(Instrument):\n",
    "    def play(self):\n",
    "        print(\"Playing the piano keys\")\n",
    "\n",
    "# Demonstrate runtime polymorphism\n",
    "instruments = [Guitar(), Piano()]\n",
    "\n",
    "for instrument in instruments:\n",
    "    instrument.play()\n"
   ]
  },
  {
   "cell_type": "markdown",
   "id": "e531144e-51c1-46f7-82e6-c6688014f55d",
   "metadata": {},
   "source": [
    "\n",
    "---\n",
    "\n",
    "### Q7. Create a class MathOperations with a class method add_numbers() to add two numbers and a static method subtract_numbers() to subtract two numbers."
   ]
  },
  {
   "cell_type": "code",
   "execution_count": 13,
   "id": "05dab1a2-4bb8-4e3a-a1e7-15a62501f243",
   "metadata": {},
   "outputs": [
    {
     "name": "stdout",
     "output_type": "stream",
     "text": [
      "Addition: 25\n",
      "Subtraction: 15\n"
     ]
    }
   ],
   "source": [
    "class MathOperations:\n",
    "    @classmethod\n",
    "    def add_numbers(cls, a, b):\n",
    "        return a + b\n",
    "\n",
    "    @staticmethod\n",
    "    def subtract_numbers(a, b):\n",
    "        return a - b\n",
    "\n",
    "# Using the class method\n",
    "result1 = MathOperations.add_numbers(20, 5)\n",
    "print(\"Addition:\", result1)\n",
    "\n",
    "# Using the static method\n",
    "result2 = MathOperations.subtract_numbers(20, 5)\n",
    "print(\"Subtraction:\", result2)\n"
   ]
  },
  {
   "cell_type": "markdown",
   "id": "275d2378-b42f-4e13-a681-d2e1bf6b21a5",
   "metadata": {},
   "source": [
    "\n",
    "---\n",
    "\n",
    "### Q8:Implement a class Person with a class method to count the total number of persons created."
   ]
  },
  {
   "cell_type": "code",
   "execution_count": 14,
   "id": "419db66d-7400-4abe-830d-4cb100426cd1",
   "metadata": {},
   "outputs": [
    {
     "name": "stdout",
     "output_type": "stream",
     "text": [
      "2\n"
     ]
    }
   ],
   "source": [
    "class Person:\n",
    "    count = 0\n",
    "\n",
    "    def __init__(self, name):\n",
    "        Person.count += 1\n",
    "\n",
    "    @classmethod\n",
    "    def total_persons(cls):\n",
    "        return cls.count\n",
    "\n",
    "# Example\n",
    "Person(\"A\")\n",
    "Person(\"B\")\n",
    "print(Person.total_persons())  \n"
   ]
  },
  {
   "cell_type": "markdown",
   "id": "a3e8a4e2-0575-40f3-840c-2ba299410d39",
   "metadata": {},
   "source": [
    "\n",
    "---\n",
    "\n",
    "### Q9: Write a class Fraction with attributes numerator and denominator. Override the str method to display the fraction as \"numerator/denominator."
   ]
  },
  {
   "cell_type": "code",
   "execution_count": 16,
   "id": "fbe3ad3a-86a4-40b9-b79f-8b6f7be2cf22",
   "metadata": {},
   "outputs": [
    {
     "name": "stdout",
     "output_type": "stream",
     "text": [
      "1/2\n"
     ]
    }
   ],
   "source": [
    "class Fraction:\n",
    "    def __init__(self, num, den):\n",
    "        self.num = num\n",
    "        self.den = den\n",
    "\n",
    "    def __str__(self):\n",
    "        return f\"{self.num}/{self.den}\"\n",
    "\n",
    "f = Fraction(1, 2)\n",
    "print(f)  \n"
   ]
  },
  {
   "cell_type": "markdown",
   "id": "36dbdb56-8148-4b2f-a0ca-0ca8d1bf4f69",
   "metadata": {},
   "source": [
    "\n",
    "### Q10: Demonstrate operator overloading by creating a class Vector and overriding the add method to add two vectors."
   ]
  },
  {
   "cell_type": "code",
   "execution_count": 17,
   "id": "0c6fd198-70ad-44d5-a0b5-99a32948f8be",
   "metadata": {},
   "outputs": [
    {
     "name": "stdout",
     "output_type": "stream",
     "text": [
      "(20, 10)\n"
     ]
    }
   ],
   "source": [
    "class Vector:\n",
    "    def __init__(self, x, y):\n",
    "        self.x = x\n",
    "        self.y = y\n",
    "\n",
    "    def __add__(self, other):\n",
    "        return Vector(self.x + other.x, self.y + other.y)\n",
    "\n",
    "    def __str__(self):\n",
    "        return f\"({self.x}, {self.y})\"\n",
    "\n",
    "v1 = Vector(15, 7)\n",
    "v2 = Vector(5, 3)\n",
    "print(v1 + v2)  \n"
   ]
  },
  {
   "cell_type": "markdown",
   "id": "486a2a79-d7cb-4b0e-a1cd-687cc1c5e3ce",
   "metadata": {},
   "source": [
    "\n",
    "---\n",
    "\n",
    "### Q11: Create a class Person with attributes name and age. Add a method greet() that prints \"Hello, my name is{name} and I am {age} years old.\"\n",
    "\n",
    "\n"
   ]
  },
  {
   "cell_type": "code",
   "execution_count": 19,
   "id": "bef8df21-dca7-46d5-8280-7328d88635d2",
   "metadata": {},
   "outputs": [
    {
     "name": "stdout",
     "output_type": "stream",
     "text": [
      "Hello, my name is Khushi Mishra and I am 20 years old.\n"
     ]
    }
   ],
   "source": [
    "class Person:\n",
    "    def __init__(self, name, age):\n",
    "        self.name = name\n",
    "        self.age = age\n",
    "\n",
    "    def greet(self):\n",
    "        print(f\"Hello, my name is {self.name} and I am {self.age} years old.\")\n",
    "\n",
    "# Example\n",
    "p = Person(\"Khushi Mishra\", 20)\n",
    "p.greet()\n"
   ]
  },
  {
   "cell_type": "markdown",
   "id": "363e8064-9011-4c09-aeb4-36845ff24a82",
   "metadata": {},
   "source": [
    "\n",
    "---\n",
    "\n",
    "### Q12. Implement a class Student with attributes name and grades. Create a method average_grade() to compute the average of the grades."
   ]
  },
  {
   "cell_type": "code",
   "execution_count": 21,
   "id": "36ee3809-fe07-4bfa-bacb-879d9ac30d2d",
   "metadata": {},
   "outputs": [
    {
     "name": "stdout",
     "output_type": "stream",
     "text": [
      "Adarsh's average is: 85.0\n"
     ]
    }
   ],
   "source": [
    "class Student:\n",
    "    def __init__(self, name, g1, g2, g3):\n",
    "        self.name = name\n",
    "        self.g1 = g1\n",
    "        self.g2 = g2\n",
    "        self.g3 = g3\n",
    "\n",
    "    def average_grade(self):\n",
    "        return (self.g1 + self.g2 + self.g3) / 3\n",
    "\n",
    "# Example\n",
    "s = Student(\"Adarsh\", 80, 85, 90)\n",
    "print(f\"{s.name}'s average is:\", s.average_grade())\n"
   ]
  },
  {
   "cell_type": "markdown",
   "id": "9bd36132-30d6-4f77-a6c2-27a3bedb9cd9",
   "metadata": {},
   "source": [
    "\n",
    "---\n",
    "\n",
    "### Q13. Create a class Rectangle with methods set_dimensions() to set the dimensions and area() to calculate the area."
   ]
  },
  {
   "cell_type": "code",
   "execution_count": 22,
   "id": "82528559-b9ab-428b-ae34-88baed4afef3",
   "metadata": {},
   "outputs": [
    {
     "name": "stdout",
     "output_type": "stream",
     "text": [
      "Area of rectangle: 6\n"
     ]
    }
   ],
   "source": [
    "class Rectangle:\n",
    "    def set_dimensions(self, length, width):\n",
    "        self.length = length\n",
    "        self.width = width\n",
    "\n",
    "    def area(self):\n",
    "        return self.length * self.width\n",
    "\n",
    "# Example\n",
    "r = Rectangle()\n",
    "r.set_dimensions(2, 3)\n",
    "print(\"Area of rectangle:\", r.area())\n"
   ]
  },
  {
   "cell_type": "markdown",
   "id": "b409743c-ac3a-4a70-8b46-ee79400e6701",
   "metadata": {},
   "source": [
    "\n",
    "---\n",
    "\n",
    "### Q14. Create a class Employee with a method calculate_salary() that computes the salary based on hours worked and hourly rate. Create a derived class Manager that adds a bonus to the salary."
   ]
  },
  {
   "cell_type": "code",
   "execution_count": 23,
   "id": "1ba56beb-f093-4802-83f6-564eb4354399",
   "metadata": {},
   "outputs": [
    {
     "name": "stdout",
     "output_type": "stream",
     "text": [
      "Employee Salary: 400\n",
      "Manager Salary: 500\n"
     ]
    }
   ],
   "source": [
    "class Employee:\n",
    "    def calculate_salary(self, hours, rate):\n",
    "        return hours * rate\n",
    "\n",
    "class Manager(Employee):\n",
    "    def calculate_salary(self, hours, rate, bonus):\n",
    "        return (hours * rate) + bonus\n",
    "\n",
    "# Example\n",
    "e = Employee()\n",
    "m = Manager()\n",
    "\n",
    "print(\"Employee Salary:\", e.calculate_salary(40, 10))   \n",
    "print(\"Manager Salary:\", m.calculate_salary(40, 10, 100))  \n"
   ]
  },
  {
   "cell_type": "markdown",
   "id": "60a59fdc-ac57-45d4-9d08-24058b1ba4fd",
   "metadata": {},
   "source": [
    "\n",
    "---\n",
    "\n",
    "### Q15. Create a class Product with attributes name, price, and quantity. Implement a method total_price() that calculates the total price of the product."
   ]
  },
  {
   "cell_type": "code",
   "execution_count": 24,
   "id": "ffcffea4-7f14-4102-acdd-59b92ba09d69",
   "metadata": {},
   "outputs": [
    {
     "name": "stdout",
     "output_type": "stream",
     "text": [
      "Total price: 50\n"
     ]
    }
   ],
   "source": [
    "class Product:\n",
    "    def __init__(self, name, price, quantity):\n",
    "        self.name = name\n",
    "        self.price = price\n",
    "        self.quantity = quantity\n",
    "\n",
    "    def total_price(self):\n",
    "        return self.price * self.quantity\n",
    "\n",
    "# Example\n",
    "p = Product(\"Pen\", 10, 5)\n",
    "print(\"Total price:\", p.total_price()) \n"
   ]
  },
  {
   "cell_type": "markdown",
   "id": "40582f56-373a-40bc-9eca-6f19d22e0b63",
   "metadata": {},
   "source": [
    "\n",
    "---\n",
    "\n",
    "### Q16. Create a class Animal with an abstract method sound(). Create two derived classes Cow and Sheep that implement the sound() method."
   ]
  },
  {
   "cell_type": "code",
   "execution_count": 25,
   "id": "b4955990-9105-49a3-bdf7-e4eb904c43f5",
   "metadata": {},
   "outputs": [
    {
     "name": "stdout",
     "output_type": "stream",
     "text": [
      "Cow: Moo Moo\n",
      "Sheep: Baa Baa\n"
     ]
    }
   ],
   "source": [
    "from abc import ABC, abstractmethod\n",
    "\n",
    "class Animal(ABC):\n",
    "    @abstractmethod\n",
    "    def sound(self):\n",
    "        pass\n",
    "\n",
    "class Cow(Animal):\n",
    "    def sound(self):\n",
    "        print(\"Cow: Moo Moo\")\n",
    "\n",
    "class Sheep(Animal):\n",
    "    def sound(self):\n",
    "        print(\"Sheep: Baa Baa\")\n",
    "\n",
    "# Test\n",
    "for animal in [Cow(), Sheep()]:\n",
    "    animal.sound()\n"
   ]
  },
  {
   "cell_type": "markdown",
   "id": "1d679af7-f08d-4fba-9bb8-44bb91ec15a5",
   "metadata": {},
   "source": [
    "\n",
    "---\n",
    "\n",
    "### Q17. Create a class Book with attributes title, author, and year_published. Add a method get_book_info() that returns a formatted string with the book's details."
   ]
  },
  {
   "cell_type": "code",
   "execution_count": 26,
   "id": "538fa5fd-0bcd-456c-bdcc-473117e52514",
   "metadata": {},
   "outputs": [
    {
     "name": "stdout",
     "output_type": "stream",
     "text": [
      "'Gitanjali' by Rabindranath Tagore, published in 1910\n"
     ]
    }
   ],
   "source": [
    "class Book:\n",
    "    def __init__(self, title, author, year):\n",
    "        self.title = title\n",
    "        self.author = author\n",
    "        self.year = year\n",
    "\n",
    "    def get_book_info(self):\n",
    "        return f\"'{self.title}' by {self.author}, published in {self.year}\"\n",
    "\n",
    "# Example with an Indian book\n",
    "book = Book(\"Gitanjali\", \"Rabindranath Tagore\", 1910)\n",
    "print(book.get_book_info())\n"
   ]
  },
  {
   "cell_type": "markdown",
   "id": "89ef07f2-7e82-468c-a9e9-cac82bcd6d76",
   "metadata": {},
   "source": [
    "\n",
    "---\n",
    "\n",
    "### Q18. Create a class House with attributes address and price. Create a derived class Mansion that adds an attribute number_of_rooms."
   ]
  },
  {
   "cell_type": "code",
   "execution_count": 3,
   "id": "6e672627-da52-4cad-bccc-fa36f4d502f6",
   "metadata": {},
   "outputs": [
    {
     "name": "stdout",
     "output_type": "stream",
     "text": [
      "Address: 12,Elm street\n",
      "Price: 800000\n",
      "---\n",
      "Address: 99 Beverly Hills\n",
      "Price: 5000000\n",
      "Number of rooms: 12\n"
     ]
    }
   ],
   "source": [
    "class House:\n",
    "    def __init__(self, address, price):\n",
    "        self.address = address\n",
    "        self.price = price\n",
    "\n",
    "    def show_details(self):\n",
    "        print(f\"Address: {self.address}\")\n",
    "        print(f\"Price: {self.price}\")\n",
    "\n",
    "class Mansion(House):\n",
    "    def __init__(self, address, price, number_of_rooms):\n",
    "        super().__init__(address, price)\n",
    "        self.number_of_rooms = number_of_rooms\n",
    "\n",
    "    def show_details(self):\n",
    "        super().show_details()\n",
    "        print(f\"Number of rooms: {self.number_of_rooms}\")\n",
    "\n",
    "# Example\n",
    "h = House(\"12,Elm street\", 800000)\n",
    "m = Mansion(\"99 Beverly Hills\", 5000000, 12)\n",
    "\n",
    "h.show_details()\n",
    "print(\"---\")\n",
    "m.show_details()\n"
   ]
  },
  {
   "cell_type": "code",
   "execution_count": null,
   "id": "cbabc2ee-33ba-4a55-8b1d-39c04a575780",
   "metadata": {},
   "outputs": [],
   "source": []
  }
 ],
 "metadata": {
  "kernelspec": {
   "display_name": "Python 3 (ipykernel)",
   "language": "python",
   "name": "python3"
  },
  "language_info": {
   "codemirror_mode": {
    "name": "ipython",
    "version": 3
   },
   "file_extension": ".py",
   "mimetype": "text/x-python",
   "name": "python",
   "nbconvert_exporter": "python",
   "pygments_lexer": "ipython3",
   "version": "3.12.7"
  }
 },
 "nbformat": 4,
 "nbformat_minor": 5
}
